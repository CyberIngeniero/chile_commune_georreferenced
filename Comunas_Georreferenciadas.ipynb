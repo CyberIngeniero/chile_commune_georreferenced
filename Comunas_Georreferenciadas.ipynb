{
  "nbformat": 4,
  "nbformat_minor": 0,
  "metadata": {
    "colab": {
      "name": "Comunas_Georreferenciadas.ipynb",
      "provenance": [],
      "collapsed_sections": [],
      "authorship_tag": "ABX9TyNOiHzvVqO7FT9adW/n+T8k",
      "include_colab_link": true
    },
    "kernelspec": {
      "name": "python3",
      "display_name": "Python 3"
    },
    "language_info": {
      "name": "python"
    }
  },
  "cells": [
    {
      "cell_type": "markdown",
      "metadata": {
        "id": "view-in-github",
        "colab_type": "text"
      },
      "source": [
        "<a href=\"https://colab.research.google.com/github/CyberIngeniero/chile_commune_georreferenced/blob/main/Comunas_Georreferenciadas.ipynb\" target=\"_parent\"><img src=\"https://colab.research.google.com/assets/colab-badge.svg\" alt=\"Open In Colab\"/></a>"
      ]
    },
    {
      "cell_type": "markdown",
      "metadata": {
        "id": "RM68mK82tBFL"
      },
      "source": [
        "# Obteniendo Informacion de Comunas Georeferenciadas"
      ]
    },
    {
      "cell_type": "markdown",
      "metadata": {
        "id": "ldORYBeMtHq3"
      },
      "source": [
        "## Cloning github repository"
      ]
    },
    {
      "cell_type": "code",
      "metadata": {
        "colab": {
          "base_uri": "https://localhost:8080/"
        },
        "id": "a-0nyfoWZho5",
        "outputId": "f0896611-4e92-4478-e750-5a214313601e"
      },
      "source": [
        "!git clone https://github.com/2x3-la/geo-chile"
      ],
      "execution_count": null,
      "outputs": [
        {
          "output_type": "stream",
          "text": [
            "Cloning into 'geo-chile'...\n",
            "remote: Enumerating objects: 11, done.\u001b[K\n",
            "remote: Total 11 (delta 0), reused 0 (delta 0), pack-reused 11\u001b[K\n",
            "Unpacking objects: 100% (11/11), done.\n"
          ],
          "name": "stdout"
        }
      ]
    },
    {
      "cell_type": "markdown",
      "metadata": {
        "id": "ywNBIbUstNM3"
      },
      "source": [
        "## Environment Config"
      ]
    },
    {
      "cell_type": "code",
      "metadata": {
        "colab": {
          "base_uri": "https://localhost:8080/"
        },
        "id": "p6QBv_eeZuxZ",
        "outputId": "43f85b7a-66ed-497a-bbd4-0d110dc25419"
      },
      "source": [
        "%cd geo-chile\n",
        "%env PYTHONPATH=.:$PYTHONPATH"
      ],
      "execution_count": null,
      "outputs": [
        {
          "output_type": "stream",
          "text": [
            "/content/geo-chile\n",
            "env: PYTHONPATH=.:$PYTHONPATH\n"
          ],
          "name": "stdout"
        }
      ]
    },
    {
      "cell_type": "code",
      "metadata": {
        "colab": {
          "base_uri": "https://localhost:8080/"
        },
        "id": "9xaVcvIcaH-H",
        "outputId": "7b14bc8b-9a34-448b-ca04-869f02c382b3"
      },
      "source": [
        "!ls"
      ],
      "execution_count": null,
      "outputs": [
        {
          "output_type": "stream",
          "text": [
            "chile.json  chile_with_regions.json  LICENSE  README.md\n"
          ],
          "name": "stdout"
        }
      ]
    },
    {
      "cell_type": "markdown",
      "metadata": {
        "id": "-P0gAA6uaJsP"
      },
      "source": [
        "------"
      ]
    },
    {
      "cell_type": "markdown",
      "metadata": {
        "id": "44atf7IGtUEU"
      },
      "source": [
        "## Get data for georeferenced communes"
      ]
    },
    {
      "cell_type": "code",
      "metadata": {
        "id": "73qZC8BoaguS"
      },
      "source": [
        "import json\n",
        "import pandas as pd  "
      ],
      "execution_count": null,
      "outputs": []
    },
    {
      "cell_type": "code",
      "metadata": {
        "id": "bHdLnd04agsG"
      },
      "source": [
        "# reading the JSON data using json.load()\n",
        "file = 'chile.json'"
      ],
      "execution_count": null,
      "outputs": []
    },
    {
      "cell_type": "code",
      "metadata": {
        "id": "jJZvcuNSagpZ"
      },
      "source": [
        "with open(file) as data_file:\n",
        "    dict_chile = json.load(data_file)"
      ],
      "execution_count": null,
      "outputs": []
    },
    {
      "cell_type": "code",
      "metadata": {
        "id": "jp-mv3Gqagm8"
      },
      "source": [
        "df_chile = pd.DataFrame.from_dict(dict_chile)"
      ],
      "execution_count": null,
      "outputs": []
    },
    {
      "cell_type": "code",
      "metadata": {
        "colab": {
          "base_uri": "https://localhost:8080/",
          "height": 419
        },
        "id": "UYXnBSk7bY9Z",
        "outputId": "e3492bd4-6fe9-4d42-d58a-6fc0b12290c3"
      },
      "source": [
        "df_chile"
      ],
      "execution_count": null,
      "outputs": [
        {
          "output_type": "execute_result",
          "data": {
            "text/html": [
              "<div>\n",
              "<style scoped>\n",
              "    .dataframe tbody tr th:only-of-type {\n",
              "        vertical-align: middle;\n",
              "    }\n",
              "\n",
              "    .dataframe tbody tr th {\n",
              "        vertical-align: top;\n",
              "    }\n",
              "\n",
              "    .dataframe thead th {\n",
              "        text-align: right;\n",
              "    }\n",
              "</style>\n",
              "<table border=\"1\" class=\"dataframe\">\n",
              "  <thead>\n",
              "    <tr style=\"text-align: right;\">\n",
              "      <th></th>\n",
              "      <th>name</th>\n",
              "      <th>lng</th>\n",
              "      <th>lat</th>\n",
              "    </tr>\n",
              "  </thead>\n",
              "  <tbody>\n",
              "    <tr>\n",
              "      <th>0</th>\n",
              "      <td>Santiago</td>\n",
              "      <td>-70.6666667</td>\n",
              "      <td>-33.4500000</td>\n",
              "    </tr>\n",
              "    <tr>\n",
              "      <th>1</th>\n",
              "      <td>Cerro Navia</td>\n",
              "      <td>-70.7166667</td>\n",
              "      <td>-33.4166667</td>\n",
              "    </tr>\n",
              "    <tr>\n",
              "      <th>2</th>\n",
              "      <td>El Bosque</td>\n",
              "      <td>-70.7000000</td>\n",
              "      <td>-33.5666667</td>\n",
              "    </tr>\n",
              "    <tr>\n",
              "      <th>3</th>\n",
              "      <td>Huechuraba</td>\n",
              "      <td>-70.6666667</td>\n",
              "      <td>-33.3500000</td>\n",
              "    </tr>\n",
              "    <tr>\n",
              "      <th>4</th>\n",
              "      <td>La Cisterna</td>\n",
              "      <td>-70.6833333</td>\n",
              "      <td>-33.5500000</td>\n",
              "    </tr>\n",
              "    <tr>\n",
              "      <th>...</th>\n",
              "      <td>...</td>\n",
              "      <td>...</td>\n",
              "      <td>...</td>\n",
              "    </tr>\n",
              "    <tr>\n",
              "      <th>340</th>\n",
              "      <td>Natales</td>\n",
              "      <td>-72.5166667</td>\n",
              "      <td>-51.7333333</td>\n",
              "    </tr>\n",
              "    <tr>\n",
              "      <th>341</th>\n",
              "      <td>Primavera</td>\n",
              "      <td>-69.2500000</td>\n",
              "      <td>-52.7166667</td>\n",
              "    </tr>\n",
              "    <tr>\n",
              "      <th>342</th>\n",
              "      <td>Antártica</td>\n",
              "      <td>-71.5000000</td>\n",
              "      <td>-75.0000000</td>\n",
              "    </tr>\n",
              "    <tr>\n",
              "      <th>343</th>\n",
              "      <td>San Gregorio</td>\n",
              "      <td>-69.6833333</td>\n",
              "      <td>-52.3166667</td>\n",
              "    </tr>\n",
              "    <tr>\n",
              "      <th>344</th>\n",
              "      <td>Laguna Blanca</td>\n",
              "      <td>-71.9166667</td>\n",
              "      <td>-52.2500000</td>\n",
              "    </tr>\n",
              "  </tbody>\n",
              "</table>\n",
              "<p>345 rows × 3 columns</p>\n",
              "</div>"
            ],
            "text/plain": [
              "              name          lng          lat\n",
              "0         Santiago  -70.6666667  -33.4500000\n",
              "1      Cerro Navia  -70.7166667  -33.4166667\n",
              "2        El Bosque  -70.7000000  -33.5666667\n",
              "3       Huechuraba  -70.6666667  -33.3500000\n",
              "4      La Cisterna  -70.6833333  -33.5500000\n",
              "..             ...          ...          ...\n",
              "340        Natales  -72.5166667  -51.7333333\n",
              "341      Primavera  -69.2500000  -52.7166667\n",
              "342      Antártica  -71.5000000  -75.0000000\n",
              "343   San Gregorio  -69.6833333  -52.3166667\n",
              "344  Laguna Blanca  -71.9166667  -52.2500000\n",
              "\n",
              "[345 rows x 3 columns]"
            ]
          },
          "metadata": {
            "tags": []
          },
          "execution_count": 11
        }
      ]
    },
    {
      "cell_type": "markdown",
      "metadata": {
        "id": "ZGJPqGLAtohW"
      },
      "source": [
        "## Get data for georeferenced communes with region"
      ]
    },
    {
      "cell_type": "code",
      "metadata": {
        "id": "vefJeakJYOgI"
      },
      "source": [
        "df_reg = pd.DataFrame()\n",
        "\n",
        "for reg in dict_reg.keys():\n",
        "    temp = pd.DataFrame.from_dict(dict_reg[reg])\n",
        "    temp['region'] = reg\n",
        "    df_reg = df_reg.append(temp)"
      ],
      "execution_count": null,
      "outputs": []
    },
    {
      "cell_type": "code",
      "metadata": {
        "id": "fIwdRziiagfj"
      },
      "source": [
        "# reading the JSON data using json.load()\n",
        "file_reg = 'chile_with_regions.json'"
      ],
      "execution_count": null,
      "outputs": []
    },
    {
      "cell_type": "code",
      "metadata": {
        "id": "vVPjJv1LagdP"
      },
      "source": [
        "with open(file_reg) as data_file:\n",
        "    dict_reg = json.load(data_file)"
      ],
      "execution_count": null,
      "outputs": []
    },
    {
      "cell_type": "code",
      "metadata": {
        "id": "YMDhOZ8d0w7C"
      },
      "source": [
        "df_reg = pd.DataFrame()"
      ],
      "execution_count": null,
      "outputs": []
    },
    {
      "cell_type": "code",
      "metadata": {
        "id": "4TT40Y-Z0w4Q"
      },
      "source": [
        "for reg in dict_reg.keys():\n",
        "    temp = pd.DataFrame.from_dict(dict_reg[reg])\n",
        "    temp['region'] = reg\n",
        "    df_reg = df_reg.append(temp)"
      ],
      "execution_count": null,
      "outputs": []
    },
    {
      "cell_type": "code",
      "metadata": {
        "colab": {
          "base_uri": "https://localhost:8080/",
          "height": 419
        },
        "id": "9KJK3GS80w16",
        "outputId": "208c218a-0b42-4f8b-f745-95cf4d919eed"
      },
      "source": [
        "df_reg"
      ],
      "execution_count": null,
      "outputs": [
        {
          "output_type": "execute_result",
          "data": {
            "text/html": [
              "<div>\n",
              "<style scoped>\n",
              "    .dataframe tbody tr th:only-of-type {\n",
              "        vertical-align: middle;\n",
              "    }\n",
              "\n",
              "    .dataframe tbody tr th {\n",
              "        vertical-align: top;\n",
              "    }\n",
              "\n",
              "    .dataframe thead th {\n",
              "        text-align: right;\n",
              "    }\n",
              "</style>\n",
              "<table border=\"1\" class=\"dataframe\">\n",
              "  <thead>\n",
              "    <tr style=\"text-align: right;\">\n",
              "      <th></th>\n",
              "      <th>name</th>\n",
              "      <th>lng</th>\n",
              "      <th>lat</th>\n",
              "      <th>region</th>\n",
              "    </tr>\n",
              "  </thead>\n",
              "  <tbody>\n",
              "    <tr>\n",
              "      <th>0</th>\n",
              "      <td>Santiago</td>\n",
              "      <td>-70.6666667</td>\n",
              "      <td>-33.4500000</td>\n",
              "      <td>Metropolitana</td>\n",
              "    </tr>\n",
              "    <tr>\n",
              "      <th>1</th>\n",
              "      <td>Cerro Navia</td>\n",
              "      <td>-70.7166667</td>\n",
              "      <td>-33.4166667</td>\n",
              "      <td>Metropolitana</td>\n",
              "    </tr>\n",
              "    <tr>\n",
              "      <th>2</th>\n",
              "      <td>El Bosque</td>\n",
              "      <td>-70.7000000</td>\n",
              "      <td>-33.5666667</td>\n",
              "      <td>Metropolitana</td>\n",
              "    </tr>\n",
              "    <tr>\n",
              "      <th>3</th>\n",
              "      <td>Huechuraba</td>\n",
              "      <td>-70.6666667</td>\n",
              "      <td>-33.3500000</td>\n",
              "      <td>Metropolitana</td>\n",
              "    </tr>\n",
              "    <tr>\n",
              "      <th>4</th>\n",
              "      <td>La Cisterna</td>\n",
              "      <td>-70.6833333</td>\n",
              "      <td>-33.5500000</td>\n",
              "      <td>Metropolitana</td>\n",
              "    </tr>\n",
              "    <tr>\n",
              "      <th>...</th>\n",
              "      <td>...</td>\n",
              "      <td>...</td>\n",
              "      <td>...</td>\n",
              "      <td>...</td>\n",
              "    </tr>\n",
              "    <tr>\n",
              "      <th>6</th>\n",
              "      <td>Natales</td>\n",
              "      <td>-72.5166667</td>\n",
              "      <td>-51.7333333</td>\n",
              "      <td>Magallanes</td>\n",
              "    </tr>\n",
              "    <tr>\n",
              "      <th>7</th>\n",
              "      <td>Primavera</td>\n",
              "      <td>-69.2500000</td>\n",
              "      <td>-52.7166667</td>\n",
              "      <td>Magallanes</td>\n",
              "    </tr>\n",
              "    <tr>\n",
              "      <th>8</th>\n",
              "      <td>Antártica</td>\n",
              "      <td>-71.5000000</td>\n",
              "      <td>-75.0000000</td>\n",
              "      <td>Magallanes</td>\n",
              "    </tr>\n",
              "    <tr>\n",
              "      <th>9</th>\n",
              "      <td>San Gregorio</td>\n",
              "      <td>-69.6833333</td>\n",
              "      <td>-52.3166667</td>\n",
              "      <td>Magallanes</td>\n",
              "    </tr>\n",
              "    <tr>\n",
              "      <th>10</th>\n",
              "      <td>Laguna Blanca</td>\n",
              "      <td>-71.9166667</td>\n",
              "      <td>-52.2500000</td>\n",
              "      <td>Magallanes</td>\n",
              "    </tr>\n",
              "  </tbody>\n",
              "</table>\n",
              "<p>345 rows × 4 columns</p>\n",
              "</div>"
            ],
            "text/plain": [
              "             name          lng          lat         region\n",
              "0        Santiago  -70.6666667  -33.4500000  Metropolitana\n",
              "1     Cerro Navia  -70.7166667  -33.4166667  Metropolitana\n",
              "2       El Bosque  -70.7000000  -33.5666667  Metropolitana\n",
              "3      Huechuraba  -70.6666667  -33.3500000  Metropolitana\n",
              "4     La Cisterna  -70.6833333  -33.5500000  Metropolitana\n",
              "..            ...          ...          ...            ...\n",
              "6         Natales  -72.5166667  -51.7333333     Magallanes\n",
              "7       Primavera  -69.2500000  -52.7166667     Magallanes\n",
              "8       Antártica  -71.5000000  -75.0000000     Magallanes\n",
              "9    San Gregorio  -69.6833333  -52.3166667     Magallanes\n",
              "10  Laguna Blanca  -71.9166667  -52.2500000     Magallanes\n",
              "\n",
              "[345 rows x 4 columns]"
            ]
          },
          "metadata": {
            "tags": []
          },
          "execution_count": 59
        }
      ]
    }
  ]
}